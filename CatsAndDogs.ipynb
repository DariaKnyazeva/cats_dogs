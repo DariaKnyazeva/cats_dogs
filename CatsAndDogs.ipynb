{
 "cells": [
  {
   "cell_type": "markdown",
   "metadata": {},
   "source": [
    "# ML exercise to classify cats and dogs images"
   ]
  },
  {
   "cell_type": "code",
   "execution_count": 2,
   "metadata": {
    "collapsed": true
   },
   "outputs": [],
   "source": [
    "import collections\n",
    "\n",
    "from ml.sklearn import ImageFeatureExtractor, SKLinearImageModel\n",
    "from file_parsers import DirectoryParser"
   ]
  },
  {
   "cell_type": "code",
   "execution_count": 3,
   "metadata": {},
   "outputs": [
    {
     "name": "stdout",
     "output_type": "stream",
     "text": [
      "Found 24 jpg/png file(s) out of 25 file(s).\n",
      "Unsupported files: {'1.txt'}\n"
     ]
    }
   ],
   "source": [
    "input_directory = 'data/demo'\n",
    "dir_parser = DirectoryParser(input_directory)\n",
    "print(dir_parser)"
   ]
  },
  {
   "cell_type": "code",
   "execution_count": null,
   "metadata": {},
   "outputs": [],
   "source": [
    "feature_extractor = ImageFeatureExtractor()\n",
    "model = SKLinearImageModel(load_model=True)\n",
    "\n",
    "for filepath in dir_parser.full_path_image_files:\n",
    "        X, _y = feature_extractor.transform_image_to_dataset([filepath])\n",
    "        # prediction = model.predict(X)\n",
    "        # print(f\"{filepath}: {prediction}\")"
   ]
  },
  {
   "cell_type": "code",
   "execution_count": null,
   "metadata": {},
   "outputs": [],
   "source": []
  }
 ],
 "metadata": {
  "kernelspec": {
   "display_name": "Python 3",
   "language": "python",
   "name": "python3"
  },
  "language_info": {
   "codemirror_mode": {
    "name": "ipython",
    "version": 3
   },
   "file_extension": ".py",
   "mimetype": "text/x-python",
   "name": "python",
   "nbconvert_exporter": "python",
   "pygments_lexer": "ipython3",
   "version": "3.7.9"
  }
 },
 "nbformat": 4,
 "nbformat_minor": 2
}
